{
 "cells": [
  {
   "cell_type": "markdown",
   "metadata": {},
   "source": [
    "## Problema: avaliar dados de óbitos por SRAG nos anos 2019 e 2020. V1."
   ]
  },
  {
   "cell_type": "markdown",
   "metadata": {},
   "source": [
    "#### Os dados analisados estão no formato .CSV na pasta 'Data' do projeto e foram baixados do Portal da Transparência no mês de junho/20.\n",
    "#### Um arquivo contem os dados consolidados do ano de 2020 até 16/06/20. O outro, dados consolidados do ano de 2019.\n",
    "#### Ambos arquivos registram mortes em decorrência de problemas respiratórios."
   ]
  },
  {
   "cell_type": "code",
   "execution_count": 1,
   "metadata": {},
   "outputs": [],
   "source": [
    "# Importando bibliotecas pyData Open Stack, para trabalhar com análise de dados.\n",
    "import pandas as pd\n",
    "import matplotlib.pyplot as plt\n",
    "%matplotlib inline"
   ]
  },
  {
   "cell_type": "code",
   "execution_count": 2,
   "metadata": {},
   "outputs": [],
   "source": [
    "'''\n",
    "Realizando a carga dos registros do ano de 2019 para um objeto DataFrame do pandas.\n",
    "Atenção para o caminho onde estão os arquivos!\n",
    "''' \n",
    "dados_2019 = pd.read_csv('../Data/obitos-2019.csv')"
   ]
  },
  {
   "cell_type": "code",
   "execution_count": 3,
   "metadata": {},
   "outputs": [
    {
     "data": {
      "text/html": [
       "<div>\n",
       "<style scoped>\n",
       "    .dataframe tbody tr th:only-of-type {\n",
       "        vertical-align: middle;\n",
       "    }\n",
       "\n",
       "    .dataframe tbody tr th {\n",
       "        vertical-align: top;\n",
       "    }\n",
       "\n",
       "    .dataframe thead th {\n",
       "        text-align: right;\n",
       "    }\n",
       "</style>\n",
       "<table border=\"1\" class=\"dataframe\">\n",
       "  <thead>\n",
       "    <tr style=\"text-align: right;\">\n",
       "      <th></th>\n",
       "      <th>uf</th>\n",
       "      <th>tipo_doenca</th>\n",
       "      <th>local_obito</th>\n",
       "      <th>faixa_etaria</th>\n",
       "      <th>sexo</th>\n",
       "      <th>total</th>\n",
       "    </tr>\n",
       "  </thead>\n",
       "  <tbody>\n",
       "    <tr>\n",
       "      <th>0</th>\n",
       "      <td>AC</td>\n",
       "      <td>OUTRAS</td>\n",
       "      <td>DOMICILIO</td>\n",
       "      <td>&lt; 9</td>\n",
       "      <td>F</td>\n",
       "      <td>8</td>\n",
       "    </tr>\n",
       "    <tr>\n",
       "      <th>1</th>\n",
       "      <td>AC</td>\n",
       "      <td>OUTRAS</td>\n",
       "      <td>DOMICILIO</td>\n",
       "      <td>&lt; 9</td>\n",
       "      <td>M</td>\n",
       "      <td>15</td>\n",
       "    </tr>\n",
       "    <tr>\n",
       "      <th>2</th>\n",
       "      <td>AC</td>\n",
       "      <td>OUTRAS</td>\n",
       "      <td>HOSPITAL</td>\n",
       "      <td>&lt; 9</td>\n",
       "      <td>F</td>\n",
       "      <td>28</td>\n",
       "    </tr>\n",
       "    <tr>\n",
       "      <th>3</th>\n",
       "      <td>AC</td>\n",
       "      <td>OUTRAS</td>\n",
       "      <td>HOSPITAL</td>\n",
       "      <td>&lt; 9</td>\n",
       "      <td>M</td>\n",
       "      <td>56</td>\n",
       "    </tr>\n",
       "    <tr>\n",
       "      <th>4</th>\n",
       "      <td>AC</td>\n",
       "      <td>OUTRAS</td>\n",
       "      <td>IGNORADO</td>\n",
       "      <td>&lt; 9</td>\n",
       "      <td>M</td>\n",
       "      <td>1</td>\n",
       "    </tr>\n",
       "  </tbody>\n",
       "</table>\n",
       "</div>"
      ],
      "text/plain": [
       "   uf tipo_doenca local_obito faixa_etaria sexo  total\n",
       "0  AC      OUTRAS   DOMICILIO          < 9    F      8\n",
       "1  AC      OUTRAS   DOMICILIO          < 9    M     15\n",
       "2  AC      OUTRAS    HOSPITAL          < 9    F     28\n",
       "3  AC      OUTRAS    HOSPITAL          < 9    M     56\n",
       "4  AC      OUTRAS    IGNORADO          < 9    M      1"
      ]
     },
     "execution_count": 3,
     "metadata": {},
     "output_type": "execute_result"
    }
   ],
   "source": [
    "# Imprimindo cabeçalho do DataFrame dataOrigin19\n",
    "dados_2019.head()"
   ]
  },
  {
   "cell_type": "code",
   "execution_count": 4,
   "metadata": {},
   "outputs": [],
   "source": [
    "# Realizando a carga dos registros do ano de 2020 para um objeto DataFrame do pandas.\n",
    "dados_2020 = pd.read_csv('../Data/obitos-2020.csv')"
   ]
  },
  {
   "cell_type": "code",
   "execution_count": 5,
   "metadata": {},
   "outputs": [
    {
     "data": {
      "text/html": [
       "<div>\n",
       "<style scoped>\n",
       "    .dataframe tbody tr th:only-of-type {\n",
       "        vertical-align: middle;\n",
       "    }\n",
       "\n",
       "    .dataframe tbody tr th {\n",
       "        vertical-align: top;\n",
       "    }\n",
       "\n",
       "    .dataframe thead th {\n",
       "        text-align: right;\n",
       "    }\n",
       "</style>\n",
       "<table border=\"1\" class=\"dataframe\">\n",
       "  <thead>\n",
       "    <tr style=\"text-align: right;\">\n",
       "      <th></th>\n",
       "      <th>uf</th>\n",
       "      <th>tipo_doenca</th>\n",
       "      <th>local_obito</th>\n",
       "      <th>faixa_etaria</th>\n",
       "      <th>sexo</th>\n",
       "      <th>total</th>\n",
       "    </tr>\n",
       "  </thead>\n",
       "  <tbody>\n",
       "    <tr>\n",
       "      <th>0</th>\n",
       "      <td>AC</td>\n",
       "      <td>OUTRAS</td>\n",
       "      <td>DOMICILIO</td>\n",
       "      <td>&lt; 9</td>\n",
       "      <td>F</td>\n",
       "      <td>3</td>\n",
       "    </tr>\n",
       "    <tr>\n",
       "      <th>1</th>\n",
       "      <td>AC</td>\n",
       "      <td>OUTRAS</td>\n",
       "      <td>DOMICILIO</td>\n",
       "      <td>&lt; 9</td>\n",
       "      <td>M</td>\n",
       "      <td>3</td>\n",
       "    </tr>\n",
       "    <tr>\n",
       "      <th>2</th>\n",
       "      <td>AC</td>\n",
       "      <td>OUTRAS</td>\n",
       "      <td>HOSPITAL</td>\n",
       "      <td>&lt; 9</td>\n",
       "      <td>F</td>\n",
       "      <td>20</td>\n",
       "    </tr>\n",
       "    <tr>\n",
       "      <th>3</th>\n",
       "      <td>AC</td>\n",
       "      <td>OUTRAS</td>\n",
       "      <td>HOSPITAL</td>\n",
       "      <td>&lt; 9</td>\n",
       "      <td>M</td>\n",
       "      <td>20</td>\n",
       "    </tr>\n",
       "    <tr>\n",
       "      <th>4</th>\n",
       "      <td>AC</td>\n",
       "      <td>OUTRAS</td>\n",
       "      <td>OUTRO</td>\n",
       "      <td>&lt; 9</td>\n",
       "      <td>F</td>\n",
       "      <td>3</td>\n",
       "    </tr>\n",
       "  </tbody>\n",
       "</table>\n",
       "</div>"
      ],
      "text/plain": [
       "   uf tipo_doenca local_obito faixa_etaria sexo  total\n",
       "0  AC      OUTRAS   DOMICILIO          < 9    F      3\n",
       "1  AC      OUTRAS   DOMICILIO          < 9    M      3\n",
       "2  AC      OUTRAS    HOSPITAL          < 9    F     20\n",
       "3  AC      OUTRAS    HOSPITAL          < 9    M     20\n",
       "4  AC      OUTRAS       OUTRO          < 9    F      3"
      ]
     },
     "execution_count": 5,
     "metadata": {},
     "output_type": "execute_result"
    }
   ],
   "source": [
    "# Imprimindo cabeçalho do DataFrame dataOrigin20\n",
    "dados_2020.head()"
   ]
  },
  {
   "cell_type": "code",
   "execution_count": 6,
   "metadata": {},
   "outputs": [],
   "source": [
    "# Carregagando em um novo objeto DataFrame, o total por tipo de doença no ano de 2019.\n",
    "obitos_srag_2019 = pd.DataFrame(dados_2019.groupby('tipo_doenca').sum())"
   ]
  },
  {
   "cell_type": "code",
   "execution_count": 7,
   "metadata": {},
   "outputs": [],
   "source": [
    "# Carregagando em um novo objeto DataFrame, o total por tipo de doença no ano de 2020.\n",
    "obitos_srag_2020 = pd.DataFrame(dados_2020.groupby('tipo_doenca').sum())"
   ]
  },
  {
   "cell_type": "code",
   "execution_count": 8,
   "metadata": {},
   "outputs": [
    {
     "data": {
      "text/html": [
       "<div>\n",
       "<style scoped>\n",
       "    .dataframe tbody tr th:only-of-type {\n",
       "        vertical-align: middle;\n",
       "    }\n",
       "\n",
       "    .dataframe tbody tr th {\n",
       "        vertical-align: top;\n",
       "    }\n",
       "\n",
       "    .dataframe thead th {\n",
       "        text-align: right;\n",
       "    }\n",
       "</style>\n",
       "<table border=\"1\" class=\"dataframe\">\n",
       "  <thead>\n",
       "    <tr style=\"text-align: right;\">\n",
       "      <th></th>\n",
       "      <th>total</th>\n",
       "    </tr>\n",
       "    <tr>\n",
       "      <th>tipo_doenca</th>\n",
       "      <th></th>\n",
       "    </tr>\n",
       "  </thead>\n",
       "  <tbody>\n",
       "    <tr>\n",
       "      <th>COVID</th>\n",
       "      <td>1</td>\n",
       "    </tr>\n",
       "    <tr>\n",
       "      <th>INDETERMINADA</th>\n",
       "      <td>7705</td>\n",
       "    </tr>\n",
       "    <tr>\n",
       "      <th>INSUFICIENCIA_RESPIRATORIA</th>\n",
       "      <td>97041</td>\n",
       "    </tr>\n",
       "    <tr>\n",
       "      <th>OUTRAS</th>\n",
       "      <td>634226</td>\n",
       "    </tr>\n",
       "    <tr>\n",
       "      <th>PNEUMONIA</th>\n",
       "      <td>219855</td>\n",
       "    </tr>\n",
       "    <tr>\n",
       "      <th>SEPTICEMIA</th>\n",
       "      <td>170281</td>\n",
       "    </tr>\n",
       "    <tr>\n",
       "      <th>SRAG</th>\n",
       "      <td>1451</td>\n",
       "    </tr>\n",
       "  </tbody>\n",
       "</table>\n",
       "</div>"
      ],
      "text/plain": [
       "                             total\n",
       "tipo_doenca                       \n",
       "COVID                            1\n",
       "INDETERMINADA                 7705\n",
       "INSUFICIENCIA_RESPIRATORIA   97041\n",
       "OUTRAS                      634226\n",
       "PNEUMONIA                   219855\n",
       "SEPTICEMIA                  170281\n",
       "SRAG                          1451"
      ]
     },
     "execution_count": 8,
     "metadata": {},
     "output_type": "execute_result"
    }
   ],
   "source": [
    "# Imprimindo o resultado.\n",
    "obitos_srag_2019"
   ]
  },
  {
   "cell_type": "code",
   "execution_count": 9,
   "metadata": {},
   "outputs": [
    {
     "data": {
      "text/html": [
       "<div>\n",
       "<style scoped>\n",
       "    .dataframe tbody tr th:only-of-type {\n",
       "        vertical-align: middle;\n",
       "    }\n",
       "\n",
       "    .dataframe tbody tr th {\n",
       "        vertical-align: top;\n",
       "    }\n",
       "\n",
       "    .dataframe thead th {\n",
       "        text-align: right;\n",
       "    }\n",
       "</style>\n",
       "<table border=\"1\" class=\"dataframe\">\n",
       "  <thead>\n",
       "    <tr style=\"text-align: right;\">\n",
       "      <th></th>\n",
       "      <th>total</th>\n",
       "    </tr>\n",
       "    <tr>\n",
       "      <th>tipo_doenca</th>\n",
       "      <th></th>\n",
       "    </tr>\n",
       "  </thead>\n",
       "  <tbody>\n",
       "    <tr>\n",
       "      <th>COVID</th>\n",
       "      <td>39052</td>\n",
       "    </tr>\n",
       "    <tr>\n",
       "      <th>INDETERMINADA</th>\n",
       "      <td>4423</td>\n",
       "    </tr>\n",
       "    <tr>\n",
       "      <th>INSUFICIENCIA_RESPIRATORIA</th>\n",
       "      <td>42942</td>\n",
       "    </tr>\n",
       "    <tr>\n",
       "      <th>OUTRAS</th>\n",
       "      <td>278335</td>\n",
       "    </tr>\n",
       "    <tr>\n",
       "      <th>PNEUMONIA</th>\n",
       "      <td>83913</td>\n",
       "    </tr>\n",
       "    <tr>\n",
       "      <th>SEPTICEMIA</th>\n",
       "      <td>68841</td>\n",
       "    </tr>\n",
       "    <tr>\n",
       "      <th>SRAG</th>\n",
       "      <td>8814</td>\n",
       "    </tr>\n",
       "  </tbody>\n",
       "</table>\n",
       "</div>"
      ],
      "text/plain": [
       "                             total\n",
       "tipo_doenca                       \n",
       "COVID                        39052\n",
       "INDETERMINADA                 4423\n",
       "INSUFICIENCIA_RESPIRATORIA   42942\n",
       "OUTRAS                      278335\n",
       "PNEUMONIA                    83913\n",
       "SEPTICEMIA                   68841\n",
       "SRAG                          8814"
      ]
     },
     "execution_count": 9,
     "metadata": {},
     "output_type": "execute_result"
    }
   ],
   "source": [
    "# Imprimindo o resultado.\n",
    "obitos_srag_2020"
   ]
  },
  {
   "cell_type": "code",
   "execution_count": 12,
   "metadata": {},
   "outputs": [],
   "source": [
    "# Realizando merge dos dois DataFrames para apresentar um comparativo entre os anos.\n",
    "total_obitos_srag = pd.merge(obitos_srag_2019, obitos_srag_2020, on='tipo_doenca')"
   ]
  },
  {
   "cell_type": "code",
   "execution_count": 13,
   "metadata": {},
   "outputs": [],
   "source": [
    "total_obitos_srag.columns = ['2019', '2020']"
   ]
  },
  {
   "cell_type": "code",
   "execution_count": 14,
   "metadata": {},
   "outputs": [
    {
     "data": {
      "text/html": [
       "<div>\n",
       "<style scoped>\n",
       "    .dataframe tbody tr th:only-of-type {\n",
       "        vertical-align: middle;\n",
       "    }\n",
       "\n",
       "    .dataframe tbody tr th {\n",
       "        vertical-align: top;\n",
       "    }\n",
       "\n",
       "    .dataframe thead th {\n",
       "        text-align: right;\n",
       "    }\n",
       "</style>\n",
       "<table border=\"1\" class=\"dataframe\">\n",
       "  <thead>\n",
       "    <tr style=\"text-align: right;\">\n",
       "      <th></th>\n",
       "      <th>2019</th>\n",
       "      <th>2020</th>\n",
       "    </tr>\n",
       "    <tr>\n",
       "      <th>tipo_doenca</th>\n",
       "      <th></th>\n",
       "      <th></th>\n",
       "    </tr>\n",
       "  </thead>\n",
       "  <tbody>\n",
       "    <tr>\n",
       "      <th>COVID</th>\n",
       "      <td>1</td>\n",
       "      <td>39052</td>\n",
       "    </tr>\n",
       "    <tr>\n",
       "      <th>INDETERMINADA</th>\n",
       "      <td>7705</td>\n",
       "      <td>4423</td>\n",
       "    </tr>\n",
       "    <tr>\n",
       "      <th>INSUFICIENCIA_RESPIRATORIA</th>\n",
       "      <td>97041</td>\n",
       "      <td>42942</td>\n",
       "    </tr>\n",
       "    <tr>\n",
       "      <th>OUTRAS</th>\n",
       "      <td>634226</td>\n",
       "      <td>278335</td>\n",
       "    </tr>\n",
       "    <tr>\n",
       "      <th>PNEUMONIA</th>\n",
       "      <td>219855</td>\n",
       "      <td>83913</td>\n",
       "    </tr>\n",
       "    <tr>\n",
       "      <th>SEPTICEMIA</th>\n",
       "      <td>170281</td>\n",
       "      <td>68841</td>\n",
       "    </tr>\n",
       "    <tr>\n",
       "      <th>SRAG</th>\n",
       "      <td>1451</td>\n",
       "      <td>8814</td>\n",
       "    </tr>\n",
       "  </tbody>\n",
       "</table>\n",
       "</div>"
      ],
      "text/plain": [
       "                              2019    2020\n",
       "tipo_doenca                               \n",
       "COVID                            1   39052\n",
       "INDETERMINADA                 7705    4423\n",
       "INSUFICIENCIA_RESPIRATORIA   97041   42942\n",
       "OUTRAS                      634226  278335\n",
       "PNEUMONIA                   219855   83913\n",
       "SEPTICEMIA                  170281   68841\n",
       "SRAG                          1451    8814"
      ]
     },
     "execution_count": 14,
     "metadata": {},
     "output_type": "execute_result"
    }
   ],
   "source": [
    "'''\n",
    "Comparando os resultados parciais de 2020, com os resultados de 2019.\n",
    "Com um rápida análise nos valores podemos notar que até 16/06/20, temos um valor praticamente \n",
    "6X maior que o ano inteiro de 2019, nos casos de SRAG (Síndrome Respiratória Aguda Grave).\n",
    "Em 2019, podemos observar também que tivemos um caso de COVID.\n",
    "'''\n",
    "total_obitos_srag"
   ]
  },
  {
   "cell_type": "code",
   "execution_count": 17,
   "metadata": {},
   "outputs": [
    {
     "data": {
      "image/png": "[encoded data removed]",
      "text/plain": [
       "<Figure size 432x288 with 1 Axes>"
      ]
     },
     "metadata": {
      "needs_background": "light"
     },
     "output_type": "display_data"
    }
   ],
   "source": [
    "'''\n",
    "Criando plot para imprimir gráfico comparativo entre óbitos de SRAG 2019 X 06/2020.\n",
    "Através do gráfico, fica mais evidente o crescimento de óbito por SRAG(Síndrome Respiratória Aguda Grave),\n",
    "com a pandemia de COVID 19.\n",
    "'''\n",
    "srag_19 = total_obitos_srag.loc['SRAG']['2019']\n",
    "srag_20 = total_obitos_srag.loc['SRAG']['2020']\n",
    "\n",
    "plt.title('Comparativo de óbitos por SRAG - 2019 X 06/2020')\n",
    "plt.bar('SRAG 2019', srag_19, label = srag_19, color = 'blue')\n",
    "plt.bar('SRAG 2020', srag_20, label = srag_20, color = 'orange')\n",
    "plt.ylabel('Número de óbitos')\n",
    "plt.legend()\n",
    "plt.show()"
   ]
  }
 ],
 "metadata": {
  "kernelspec": {
   "display_name": "Python [default]",
   "language": "python",
   "name": "python3"
  },
  "language_info": {
   "codemirror_mode": {
    "name": "ipython",
    "version": 3
   },
   "file_extension": ".py",
   "mimetype": "text/x-python",
   "name": "python",
   "nbconvert_exporter": "python",
   "pygments_lexer": "ipython3",
   "version": "3.5.6"
  }
 },
 "nbformat": 4,
 "nbformat_minor": 4
}
