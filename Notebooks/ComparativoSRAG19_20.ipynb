{
 "cells": [
  {
   "cell_type": "markdown",
   "metadata": {},
   "source": [
    "## Problema: avaliar dados de óbitos por SRAG nos anos 2019 e 2020. V1."
   ]
  },
  {
   "cell_type": "markdown",
   "metadata": {},
   "source": [
    "#### Os dados analisados estão no formato .CSV na pasta 'Data' do projeto e foram baixados do Portal da Transparência no mês de junho/20.\n",
    "#### Um arquivo contem os dados consolidados do ano de 2020 até 16/06/20. O outro, dados consolidados do ano de 2019.\n",
    "#### Ambos arquivos registram mortes em decorrência de problemas respiratórios."
   ]
  },
  {
   "cell_type": "code",
   "execution_count": null,
   "metadata": {},
   "outputs": [],
   "source": [
    "# Importando bibliotecas pyData Open Stack, para trabalhar com análise de dados.\n",
    "import pandas as pd\n",
    "import matplotlib.pyplot as plt\n",
    "%matplotlib inline"
   ]
  },
  {
   "cell_type": "code",
   "execution_count": null,
   "metadata": {},
   "outputs": [],
   "source": [
    "# Realizando a carga dos registros do ano de 2019 para um objeto DataFrame do pandas.\n",
    "# Atenção para o caminho onde estão os arquivos!\n",
    "dataOrigin19 = pd.read_csv('../Data/obitos-2019.csv')"
   ]
  },
  {
   "cell_type": "code",
   "execution_count": null,
   "metadata": {},
   "outputs": [],
   "source": [
    "# Imprimindo cabeçalho do DataFrame dataOrigin19\n",
    "dataOrigin19.head()"
   ]
  },
  {
   "cell_type": "code",
   "execution_count": null,
   "metadata": {},
   "outputs": [],
   "source": [
    "# Realizando a carga dos registros do ano de 2020 para um objeto DataFrame do pandas.\n",
    "dataOrigin20 = pd.read_csv('../Data/obitos-2020.csv')"
   ]
  },
  {
   "cell_type": "code",
   "execution_count": null,
   "metadata": {},
   "outputs": [],
   "source": [
    "# Imprimindo cabeçalho do DataFrame dataOrigin20\n",
    "dataOrigin20.head()"
   ]
  },
  {
   "cell_type": "code",
   "execution_count": null,
   "metadata": {},
   "outputs": [],
   "source": [
    "# Carregagando em um novo objeto DataFrame, o total por tipo de doença no ano de 2019.\n",
    "dfTotalObitos19 = pd.DataFrame(dataOrigin19.groupby('tipo_doenca').sum())"
   ]
  },
  {
   "cell_type": "code",
   "execution_count": null,
   "metadata": {},
   "outputs": [],
   "source": [
    "# Carregagando em um novo objeto DataFrame, o total por tipo de doença no ano de 2020.\n",
    "dfTotalObitos20 = pd.DataFrame(dataOrigin20.groupby('tipo_doenca').sum())"
   ]
  },
  {
   "cell_type": "code",
   "execution_count": null,
   "metadata": {},
   "outputs": [],
   "source": [
    "# Imprimindo o resultado.\n",
    "dfTotalObitos19"
   ]
  },
  {
   "cell_type": "code",
   "execution_count": null,
   "metadata": {},
   "outputs": [],
   "source": [
    "# Imprimindo o resultado.\n",
    "dfTotalObitos20"
   ]
  },
  {
   "cell_type": "code",
   "execution_count": null,
   "metadata": {},
   "outputs": [],
   "source": [
    "dfTotalObitos = pd.merge(dfTotalObitos19, dfTotalObitos20, on='tipo_doenca')"
   ]
  },
  {
   "cell_type": "code",
   "execution_count": null,
   "metadata": {},
   "outputs": [],
   "source": [
    "dfTotalObitos.columns = ['2019', '2020']"
   ]
  },
  {
   "cell_type": "code",
   "execution_count": null,
   "metadata": {},
   "outputs": [],
   "source": [
    "# Comparando os resultados parciais de 2020, com os resultados de 2019.\n",
    "# Com um rápida análise nos valores podemos notar que até 16/06/20, temos um valor praticamente \n",
    "# 6X maior que o ano inteiro de 2019, nos casos de SRAG (Síndrome Respiratória Aguda Grave).\n",
    "# Em 2019, podemos observar também que tivemos um caso de COVID.\n",
    "dfTotalObitos"
   ]
  },
  {
   "cell_type": "code",
   "execution_count": null,
   "metadata": {},
   "outputs": [],
   "source": [
    "# Criando plot para imprimir gráfico comparativo entre óbitos de SRAG 2019 X 06/2020.\n",
    "# Através do gráfico, fica mais evidente o crescimento de óbito por SRAG(Síndrome Respiratória Aguda Grave),\n",
    "# com a pandemia de COVID 19.\n",
    "obitos19 = dfTotalObitos.loc['SRAG']['2019']\n",
    "obitos20 = dfTotalObitos.loc['SRAG']['2020']\n",
    "plt.title('Comparativo de óbitos por SRAG - 2019 X 06/2020')\n",
    "plt.bar('SRAG 2019', obitos19, label = obitos19, color = 'blue')\n",
    "plt.bar('SRAG 2020', obitos20, label = obitos20, color = 'orange')\n",
    "plt.ylabel('Número de óbitos')\n",
    "plt.legend()\n",
    "plt.show()"
   ]
  }
 ],
 "metadata": {
  "kernelspec": {
   "display_name": "Python [default]",
   "language": "python",
   "name": "python3"
  },
  "language_info": {
   "codemirror_mode": {
    "name": "ipython",
    "version": 3
   },
   "file_extension": ".py",
   "mimetype": "text/x-python",
   "name": "python",
   "nbconvert_exporter": "python",
   "pygments_lexer": "ipython3",
   "version": "3.5.6"
  }
 },
 "nbformat": 4,
 "nbformat_minor": 4
}
